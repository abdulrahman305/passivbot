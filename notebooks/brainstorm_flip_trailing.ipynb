{
 "cells": [
  {
   "cell_type": "code",
   "execution_count": null,
   "id": "07887220-97e8-4534-a67b-f50d4ee19f07",
   "metadata": {},
   "outputs": [],
   "source": [
    "%load_ext autoreload\n",
    "%autoreload 2\n",
    "%run notebook_setup.py"
   ]
  },
  {
   "cell_type": "code",
   "execution_count": null,
   "id": "21b58c52-d233-4adb-88f5-becc32de3e7f",
   "metadata": {},
   "outputs": [],
   "source": [
    "import sys\n",
    "import os\n",
    "from backtest import *\n",
    "from pareto_store import *\n",
    "from pure_funcs import calc_drawdowns\n"
   ]
  },
  {
   "cell_type": "code",
   "execution_count": null,
   "id": "a6bdd80a-087f-415f-9720-9a9c60da9f1a",
   "metadata": {},
   "outputs": [],
   "source": [
    "config = load_config('configs/template.json')\n",
    "config['live']['approved_coins'] = 'BTC'\n",
    "config['backtest']['exchanges'] = ['bybit', 'binance']\n",
    "config['backtest']['combine_ohlcvs'] = True\n",
    "config['backtest']['start_date'] = '2023-01-01'\n",
    "config['live']['minimum_coin_age_days'] = 30\n",
    "config = format_config(config)\n",
    "res = await prepare_hlcvs_mss(config, 'combined' if config['backtest']['combine_ohlcvs'] else config['backtest']['exchanges'][0])\n",
    "coins, hlcvs, mss, results_path, cache_dir, btc_usd_prices = res\n",
    "#prices = btc_usd_prices\n",
    "hlcv = hlcvs[:,0]"
   ]
  },
  {
   "cell_type": "code",
   "execution_count": null,
   "id": "2258f43a-2016-4cf0-b3d6-9e7325aad581",
   "metadata": {},
   "outputs": [],
   "source": [
    "plt.plot(hlcv[:,2])"
   ]
  },
  {
   "cell_type": "code",
   "execution_count": null,
   "id": "0a90e384-14e3-4e96-ade0-90099c97afab",
   "metadata": {},
   "outputs": [],
   "source": [
    "results = {(0.2894, 1.782, 53.52, 0.009582, 0.01764, 0.007609, 0.01407): None}\n",
    "eligible = {}"
   ]
  },
  {
   "cell_type": "code",
   "execution_count": null,
   "id": "f4721f15-6acc-490f-9cf5-dc49c3929c9e",
   "metadata": {},
   "outputs": [],
   "source": [
    "len(eligible)"
   ]
  },
  {
   "cell_type": "code",
   "execution_count": null,
   "id": "1ee8e54f-1dc0-4573-82ea-3432aadd5699",
   "metadata": {},
   "outputs": [],
   "source": [
    "def perform_backtest(\n",
    "    hlcv,\n",
    "    key,\n",
    "):\n",
    "    fee_rate = 0.00055\n",
    "    fills, equities = pbr.backtest_trailing_flip(\n",
    "        hlcv,\n",
    "        *key,\n",
    "        fee_rate,\n",
    "    )\n",
    "    fdf = pd.DataFrame(fills, columns=[\"index\", \"pnl\", \"fee_paid\", \"balance\", \"qty\", \"price\", \"psize\", \"pprice\", \"upnl\", \"type\"]).set_index('index')\n",
    "    edf = pd.Series(equities)\n",
    "    fdf.loc[:,'wallet_exposure'] = fdf.psize.abs() * fdf.pprice / fdf.balance\n",
    "    fdf.loc[:,'equity'] = fdf.balance + fdf.upnl\n",
    "    drawdowns = calc_drawdowns(edf)\n",
    "    drawdown_worst = abs(drawdowns.min())\n",
    "    gain = edf.iloc[-1] / edf.iloc[0]\n",
    "    n_days = len(edf) / 60 / 24\n",
    "    adg = gain ** (1 / n_days) - 1 if gain > 0.0 else gain\n",
    "    return {'drawdown_worst': drawdown_worst, 'adg': adg}"
   ]
  },
  {
   "cell_type": "code",
   "execution_count": null,
   "id": "164a5e44-dec4-4a5d-935a-37402bcc4756",
   "metadata": {
    "scrolled": true
   },
   "outputs": [],
   "source": [
    "begin_harmony_search = 20\n",
    "harmony_memory_size = 20\n",
    "limit_drawdown_worst = 0.5\n",
    "n_iters = 40000\n",
    "\n",
    "for k in results:\n",
    "    if results[k] is None:\n",
    "        results[k] = perform_backtest(hlcv, k)\n",
    "        print('backtested', k, results[k])\n",
    "        \n",
    "eligible = {k: v for k, v in results.items() if v and v['drawdown_worst'] < limit_drawdown_worst}\n",
    "for z in range(n_iters):\n",
    "    if len(eligible) > begin_harmony_search:\n",
    "        mode = 'harmony_search'\n",
    "        resfs = sorted(eligible.items(), key=lambda x: x[1]['adg'])[-harmony_memory_size:]\n",
    "        #if len(resfs) >= harmony_memory_size:\n",
    "        #    eligible = {x[0]: eligible[x[0]] for x in resfs}\n",
    "        candidate = []\n",
    "        for i in range(len(resfs[0][0])):\n",
    "            vals = [resfs[k][0][i] for k in range(len(resfs))]\n",
    "            candidate.append((np.random.choice(vals) + np.random.uniform(-0.000001, 0.000001)) * np.random.uniform(0.9, 1.1))\n",
    "        initial_qty_pct, double_down_factor, wallet_exposure_limit, trailing_threshold_pct_profit, trailing_threshold_pct_loss, trailing_retracement_pct_profit, trailing_retracement_pct_loss = candidate\n",
    "    else:\n",
    "        mode = 'random'\n",
    "        initial_qty_pct = np.random.uniform(0.01, 1.0)\n",
    "        double_down_factor = np.random.uniform(1.1, 3.0)\n",
    "        wallet_exposure_limit = np.random.uniform(10.0, 100.0)\n",
    "        trailing_threshold_pct_profit = np.random.uniform(0.01, 0.03)\n",
    "        trailing_threshold_pct_loss = np.random.uniform(0.01, 0.03)\n",
    "        trailing_retracement_pct_profit = np.random.uniform(0.00001, 0.01)\n",
    "        trailing_retracement_pct_loss = np.random.uniform(0.00001, 0.01)\n",
    "        \n",
    "    key = (\n",
    "        pbr.round_dynamic(initial_qty_pct, 4),\n",
    "        pbr.round_dynamic(double_down_factor, 4),\n",
    "        pbr.round_dynamic(wallet_exposure_limit, 4),\n",
    "        pbr.round_dynamic(trailing_threshold_pct_profit, 4),\n",
    "        pbr.round_dynamic(trailing_threshold_pct_loss, 4),\n",
    "        pbr.round_dynamic(trailing_retracement_pct_profit, 4),\n",
    "        pbr.round_dynamic(trailing_retracement_pct_loss, 4),\n",
    "    )\n",
    "    if key in results:\n",
    "        continue\n",
    "    result = perform_backtest(hlcv, key)\n",
    "    results[key] = result\n",
    "    if result['drawdown_worst'] < limit_drawdown_worst:\n",
    "        eligible[key] = result\n",
    "        print(z, len(eligible), mode, key, eligible[key])\n",
    "        "
   ]
  },
  {
   "cell_type": "code",
   "execution_count": null,
   "id": "6e176b5d-7506-4070-a86a-3d6090b25c89",
   "metadata": {},
   "outputs": [],
   "source": []
  },
  {
   "cell_type": "code",
   "execution_count": null,
   "id": "d3af125f-928d-4f71-90d0-ff454cf8fdbd",
   "metadata": {},
   "outputs": [],
   "source": [
    "resf = {k: v for k, v in results.items() if v['drawdown_worst'] < limit_drawdown_worst}\n",
    "resfs = sorted(resf.items(), key=lambda x: x[1]['adg'])[-harmony_memory_size:]\n",
    "resfs"
   ]
  },
  {
   "cell_type": "code",
   "execution_count": null,
   "id": "d7dcdfe8-ba6d-4728-a553-870dfe87f60b",
   "metadata": {},
   "outputs": [],
   "source": [
    "candidate = resfs[-1][0]\n",
    "fee_rate = 0.00055\n",
    "initial_qty_pct, double_down_factor, wallet_exposure_limit, trailing_threshold_pct_profit, trailing_threshold_pct_loss, trailing_retracement_pct_profit, trailing_retracement_pct_loss = candidate\n",
    "fills, equities = pbr.backtest_trailing_flip(\n",
    "    hlcv,\n",
    "    *candidate,\n",
    "    fee_rate,\n",
    ")\n",
    "fdf = pd.DataFrame(fills, columns=[\"index\", \"pnl\", \"fee_paid\", \"balance\", \"qty\", \"price\", \"psize\", \"pprice\", \"upnl\", \"type\"]).set_index('index')\n",
    "edf = pd.Series(equities)\n",
    "fdf.loc[:,'wallet_exposure'] = fdf.psize.abs() * fdf.pprice / fdf.balance\n",
    "fdf.loc[:,'equity'] = fdf.balance + fdf.upnl\n",
    "drawdowns = calc_drawdowns(edf)\n",
    "drawdown_worst = abs(drawdowns.min())\n",
    "gain = edf.iloc[-1] / edf.iloc[0]\n",
    "n_days = len(edf) / 60 / 24\n",
    "adg = gain ** (1 / n_days) - 1\n",
    "print('drawdown_worst', drawdown_worst)\n",
    "print('n_days', n_days)\n",
    "print('n fills', len(fdf))\n",
    "print('adg', adg)\n",
    "print('WE max', fdf.wallet_exposure.max())"
   ]
  },
  {
   "cell_type": "code",
   "execution_count": null,
   "id": "f3d9bcda-ea7a-4275-af60-943f05565c34",
   "metadata": {},
   "outputs": [],
   "source": [
    "edf.plot(logy=True)"
   ]
  },
  {
   "cell_type": "code",
   "execution_count": null,
   "id": "0bd1e82c-b10e-4a05-b764-343ef2ca3e85",
   "metadata": {},
   "outputs": [],
   "source": [
    "edf.plot(logy=False)"
   ]
  },
  {
   "cell_type": "code",
   "execution_count": null,
   "id": "307ebc80-93fd-4549-8eb9-aeee950a1311",
   "metadata": {},
   "outputs": [],
   "source": [
    "cost_pct = (fdf.qty.abs() * fdf.price) / fdf.balance\n",
    "cost_pct.groupby(cost_pct.index // 1440).sum().mean()"
   ]
  },
  {
   "cell_type": "code",
   "execution_count": null,
   "id": "9b4366a5-6432-41b7-bc3b-f77ac158a2f3",
   "metadata": {},
   "outputs": [],
   "source": [
    "fdf.iloc[:60]"
   ]
  },
  {
   "cell_type": "code",
   "execution_count": null,
   "id": "1c1203bb-066c-4dee-bd9e-802dbedda918",
   "metadata": {},
   "outputs": [],
   "source": [
    "fdf.sort_values('wallet_exposure')"
   ]
  },
  {
   "cell_type": "code",
   "execution_count": null,
   "id": "f9826175-6463-4a05-803f-9a820a25d503",
   "metadata": {},
   "outputs": [],
   "source": []
  },
  {
   "cell_type": "code",
   "execution_count": null,
   "id": "d5f13bff-99f5-4f52-8919-7d04a9169a19",
   "metadata": {},
   "outputs": [],
   "source": [
    "i = 607126\n",
    "n = 7000\n",
    "fdfc = fdf.loc[i-n:i+n]\n",
    "buys = fdfc[fdfc.qty > 0.0]\n",
    "sells = fdfc[fdfc.qty < 0.0]\n",
    "pd.DataFrame(hlcv[:,2]).loc[i-n:i+n].plot()\n",
    "buys.price.plot(style='bo')\n",
    "sells.price.plot(style='ro')"
   ]
  },
  {
   "cell_type": "code",
   "execution_count": null,
   "id": "1595a340-0964-4cb2-96c2-93d6009cceef",
   "metadata": {},
   "outputs": [],
   "source": [
    "fdfc"
   ]
  },
  {
   "cell_type": "code",
   "execution_count": null,
   "id": "d1341dee-f707-4528-a442-0daaec73800b",
   "metadata": {},
   "outputs": [],
   "source": [
    "edf.loc[fdfc.index[0]:fdfc.index[-1]].plot()"
   ]
  },
  {
   "cell_type": "code",
   "execution_count": null,
   "id": "6d373d44-53f6-417f-88e0-eba6f1692f43",
   "metadata": {},
   "outputs": [],
   "source": []
  },
  {
   "cell_type": "code",
   "execution_count": null,
   "id": "ba08a100-dcd4-43a6-91ed-2f7538077108",
   "metadata": {},
   "outputs": [],
   "source": []
  },
  {
   "cell_type": "code",
   "execution_count": null,
   "id": "baf291fd-604b-40d3-b383-6df6bcc33353",
   "metadata": {},
   "outputs": [],
   "source": []
  },
  {
   "cell_type": "code",
   "execution_count": null,
   "id": "e9988538-47ad-46b1-91ba-d64abcff91dd",
   "metadata": {},
   "outputs": [],
   "source": [
    "fdf.sort_values('wallet_exposure').iloc[-10:]"
   ]
  },
  {
   "cell_type": "code",
   "execution_count": null,
   "id": "09eb2870-2c3e-4b4b-ae62-6e78d21fb828",
   "metadata": {},
   "outputs": [],
   "source": []
  },
  {
   "cell_type": "code",
   "execution_count": null,
   "id": "af166faa-0c66-430b-a963-d109a83203ab",
   "metadata": {},
   "outputs": [],
   "source": []
  }
 ],
 "metadata": {
  "kernelspec": {
   "display_name": "Python (venv)",
   "language": "python",
   "name": "venv"
  },
  "language_info": {
   "codemirror_mode": {
    "name": "ipython",
    "version": 3
   },
   "file_extension": ".py",
   "mimetype": "text/x-python",
   "name": "python",
   "nbconvert_exporter": "python",
   "pygments_lexer": "ipython3",
   "version": "3.9.18"
  }
 },
 "nbformat": 4,
 "nbformat_minor": 5
}
